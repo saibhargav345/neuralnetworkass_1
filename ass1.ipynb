{
  "nbformat": 4,
  "nbformat_minor": 0,
  "metadata": {
    "colab": {
      "provenance": []
    },
    "kernelspec": {
      "name": "python3",
      "display_name": "Python 3"
    },
    "language_info": {
      "name": "python"
    }
  },
  "cells": [
    {
      "cell_type": "code",
      "execution_count": 2,
      "metadata": {
        "colab": {
          "base_uri": "https://localhost:8080/"
        },
        "id": "48vXHJJcf9Jh",
        "outputId": "bb738743-647e-434a-d7fb-a0f44b33948c"
      },
      "outputs": [
        {
          "output_type": "stream",
          "name": "stdout",
          "text": [
            "Enter first number2\n",
            "eneter second number3\n",
            "Addition: 5.0\n",
            "Subtraction: -1.0\n",
            "Multiplication: 6.0\n",
            "Division: 0.6666666666666666\n"
          ]
        }
      ],
      "source": [
        "num1 = float(input(\"Enter first number\"))\n",
        "num2 = float(input(\"eneter second number\"))\n",
        "print(\"Addition:\", num1+num2)\n",
        "print(\"Subtraction:\", num1-num2)\n",
        "print(\"Multiplication:\", num1*num2)\n",
        "print(\"Division:\", num1/num2)\n"
      ]
    },
    {
      "cell_type": "code",
      "source": [
        "input_sentence = input(\"Enter a sentence: \")\n",
        "\n",
        "modified_sentence = input_sentence.replace('python', 'pythons')\n",
        "\n",
        "print(\"Modified sentence:\", modified_sentence)"
      ],
      "metadata": {
        "colab": {
          "base_uri": "https://localhost:8080/"
        },
        "id": "kXYcgitqjB-A",
        "outputId": "7eaef9a5-e6ab-4b9b-c788-da8304e42572"
      },
      "execution_count": 3,
      "outputs": [
        {
          "output_type": "stream",
          "name": "stdout",
          "text": [
            "Enter a sentence: i love playing with python\n",
            "Modified sentence: i love playing with pythons\n"
          ]
        }
      ]
    },
    {
      "cell_type": "code",
      "source": [
        "score = int(input(\"Enter class score\"))\n",
        "if(score>=90):\n",
        "  print(\"A\")\n",
        "elif(score>=80 and score<90):\n",
        "  print(\"B\")\n",
        "elif(score>=70 and score<80):\n",
        "  print(\"C\")\n",
        "elif(score>=60 and score<70):\n",
        "  print(\"D\")\n",
        "else:\n",
        "  print(\"F\")"
      ],
      "metadata": {
        "colab": {
          "base_uri": "https://localhost:8080/"
        },
        "id": "nEW2MhTCjWwL",
        "outputId": "e9bb9554-4caa-4902-8612-635ab437be84"
      },
      "execution_count": 5,
      "outputs": [
        {
          "output_type": "stream",
          "name": "stdout",
          "text": [
            "Enter class score65\n",
            "D\n"
          ]
        }
      ]
    },
    {
      "cell_type": "code",
      "source": [
        "input_string = input(\"Enter a string: \")\n",
        "\n",
        "\n",
        "if len(input_string) < 2:\n",
        "    print(\"Input string should have at least 2 characters.\")\n",
        "else:\n",
        "\n",
        "    modified_string = input_string[:-2]\n",
        "\n",
        "\n",
        "    reversed_string = modified_string[::-1]\n",
        "\n",
        "\n",
        "    print(\"Modified and reversed string:\", reversed_string)\n",
        "\n",
        "\n",
        "\n"
      ],
      "metadata": {
        "colab": {
          "base_uri": "https://localhost:8080/"
        },
        "id": "9XHCpo3mhngi",
        "outputId": "a475f40e-517f-41fc-ec0f-7ca49d65914a"
      },
      "execution_count": 1,
      "outputs": [
        {
          "output_type": "stream",
          "name": "stdout",
          "text": [
            "Enter a string: python\n",
            "Modified and reversed string: htyp\n"
          ]
        }
      ]
    }
  ]
}